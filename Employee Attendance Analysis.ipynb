{
 "cells": [
  {
   "cell_type": "code",
   "execution_count": null,
   "id": "619fdf1b-ba18-4314-8ac3-9e9ae600e449",
   "metadata": {},
   "outputs": [],
   "source": []
  }
 ],
 "metadata": {
  "kernelspec": {
   "display_name": "",
   "name": ""
  },
  "language_info": {
   "name": ""
  }
 },
 "nbformat": 4,
 "nbformat_minor": 5
}
